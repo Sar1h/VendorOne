{
 "cells": [
  {
   "cell_type": "markdown",
   "id": "a4268b1a",
   "metadata": {},
   "source": [
    "# First Notebook\n",
    "\n",
    "Lets Begin!!!\n"
   ]
  },
  {
   "cell_type": "code",
   "execution_count": 2,
   "id": "e7f5a159",
   "metadata": {},
   "outputs": [
    {
     "name": "stdout",
     "output_type": "stream",
     "text": [
      "Hello World\n",
      "hellooooooo\n"
     ]
    }
   ],
   "source": [
    "print(\"Hello World\")\n",
    "print(\"hellooooooo\")"
   ]
  },
  {
   "cell_type": "markdown",
   "id": "fb096be7",
   "metadata": {},
   "source": [
    "# Some more documentation\n",
    "- hell\n",
    "- oooo\n",
    "- 0000k"
   ]
  },
  {
   "cell_type": "code",
   "execution_count": 3,
   "id": "94f2cc4e",
   "metadata": {},
   "outputs": [],
   "source": [
    "import pandas as pd"
   ]
  },
  {
   "cell_type": "code",
   "execution_count": 4,
   "id": "9d6d401c",
   "metadata": {},
   "outputs": [
    {
     "name": "stdout",
     "output_type": "stream",
     "text": [
      "<module 'pandas' from 'C:\\\\Users\\\\sarth\\\\anaconda3\\\\lib\\\\site-packages\\\\pandas\\\\__init__.py'>\n"
     ]
    }
   ],
   "source": [
    "print(pd)"
   ]
  },
  {
   "cell_type": "code",
   "execution_count": 5,
   "id": "8414b9de",
   "metadata": {
    "scrolled": true
   },
   "outputs": [
    {
     "name": "stdout",
     "output_type": "stream",
     "text": [
      "okkk\n"
     ]
    }
   ],
   "source": [
    "print(\"okkk\")"
   ]
  },
  {
   "cell_type": "code",
   "execution_count": null,
   "id": "9cc11a62",
   "metadata": {},
   "outputs": [],
   "source": []
  }
 ],
 "metadata": {
  "kernelspec": {
   "display_name": "Python 3 (ipykernel)",
   "language": "python",
   "name": "python3"
  },
  "language_info": {
   "codemirror_mode": {
    "name": "ipython",
    "version": 3
   },
   "file_extension": ".py",
   "mimetype": "text/x-python",
   "name": "python",
   "nbconvert_exporter": "python",
   "pygments_lexer": "ipython3",
   "version": "3.9.12"
  }
 },
 "nbformat": 4,
 "nbformat_minor": 5
}
