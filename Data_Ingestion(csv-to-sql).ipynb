{
 "cells": [
  {
   "cell_type": "code",
   "execution_count": 17,
   "id": "f31b7045",
   "metadata": {},
   "outputs": [],
   "source": [
    "import pandas as pd\n",
    "import os\n",
    "from sqlalchemy import create_engine\n",
    "import logging\n",
    "import time\n",
    "logging.basicConfig(\n",
    "    filename=\"logs/ingestion_db.log\",\n",
    "    level=logging.DEBUG,\n",
    "    format=\"%(asctime)s-%(message)s\",\n",
    "    filemode=\"a\"    \n",
    ")\n",
    "\n",
    "engine = create_engine('sqlite:///inventory.db')\n",
    "\n",
    "''' This function will ingest dataframe into DB table'''\n",
    "def ingest_db(df, table_name, engine):\n",
    "    df.to_sql(table_name, con=engine, if_exists='replace', index=False, chunksize=10000)\n",
    "\n",
    "def load_raw_data():\n",
    "    ''' This function will load data from CSV and Ingest it into DB'''\n",
    "    start=time.time()\n",
    "    for file in os.listdir('data'):\n",
    "        if '.csv' in file:\n",
    "            df=pd.read_csv('data/'+file, low_memory=True)\n",
    "            logging.info(f'Ingesting {file} in db')\n",
    "            ingest_db(df, file[:-4],engine)\n",
    "    end=time.time()\n",
    "    total_time=(end-start)/60\n",
    "    logging.info(\"--------Ingestion Complete-----------\")\n",
    "    logging.info(f'\\n Total Time taken :{total_time} minutes')\n",
    "    \n",
    "if __name__=='__main__':\n",
    "    load_raw_data()"
   ]
  },
  {
   "cell_type": "code",
   "execution_count": null,
   "id": "ae0b1f77",
   "metadata": {},
   "outputs": [],
   "source": []
  }
 ],
 "metadata": {
  "kernelspec": {
   "display_name": "Python 3 (ipykernel)",
   "language": "python",
   "name": "python3"
  },
  "language_info": {
   "codemirror_mode": {
    "name": "ipython",
    "version": 3
   },
   "file_extension": ".py",
   "mimetype": "text/x-python",
   "name": "python",
   "nbconvert_exporter": "python",
   "pygments_lexer": "ipython3",
   "version": "3.9.12"
  }
 },
 "nbformat": 4,
 "nbformat_minor": 5
}
